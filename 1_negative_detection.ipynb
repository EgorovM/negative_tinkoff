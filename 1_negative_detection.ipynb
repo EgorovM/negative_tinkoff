{
 "cells": [
  {
   "cell_type": "code",
   "execution_count": 1,
   "metadata": {},
   "outputs": [],
   "source": [
    "import pandas as pd\n",
    "import numpy as np\n",
    "\n",
    "import matplotlib.pyplot as plt"
   ]
  },
  {
   "cell_type": "code",
   "execution_count": 2,
   "metadata": {},
   "outputs": [],
   "source": [
    "from tqdm import tqdm as tq"
   ]
  },
  {
   "cell_type": "code",
   "execution_count": 3,
   "metadata": {},
   "outputs": [],
   "source": [
    "df_texts = pd.read_csv('pulse_stage1_patch.csv')"
   ]
  },
  {
   "cell_type": "code",
   "execution_count": 4,
   "metadata": {},
   "outputs": [
    {
     "data": {
      "text/plain": [
       "False    33466\n",
       "True      1141\n",
       "Name: label, dtype: int64"
      ]
     },
     "execution_count": 4,
     "metadata": {},
     "output_type": "execute_result"
    }
   ],
   "source": [
    "df_texts.label.value_counts()"
   ]
  },
  {
   "cell_type": "code",
   "execution_count": 5,
   "metadata": {},
   "outputs": [],
   "source": [
    "df_texts.query('label')[['message']].to_csv('toxic.csv', index=False)"
   ]
  },
  {
   "cell_type": "code",
   "execution_count": 6,
   "metadata": {},
   "outputs": [],
   "source": [
    "df_texts.query('label != True')[['message']].to_csv('non_toxic.csv', index=False)"
   ]
  },
  {
   "cell_type": "code",
   "execution_count": 7,
   "metadata": {},
   "outputs": [],
   "source": [
    "df_texts.query('label')[['message']].to_excel('toxic.xlsx', index=False)"
   ]
  },
  {
   "cell_type": "code",
   "execution_count": 8,
   "metadata": {},
   "outputs": [],
   "source": [
    "df_texts.query('label != True')[['message']].to_excel('non_toxic.xlsx', index=False)"
   ]
  },
  {
   "cell_type": "markdown",
   "metadata": {},
   "source": [
    "Мичил\n",
    "- Заменить ё на е\n",
    "- Исправить грамматику\n",
    "- Многоточия, вопросительные знаки, восклицательные\n",
    "- Сократить многогласия (фууу -> фу, ахахахахах -> аха)\n",
    "- Токсичная улыбка скобка\n",
    "- Разделить соединенные слова\n",
    "\n",
    "Снежана\n",
    "- Муты->слова (точки, звездочки)\n",
    "- Токсичные окончания слов (пиздаболище...)\n",
    "- Сокращения в слова\n",
    "- Исправление опечатков мата по возможности \n",
    "- Омонимы в контексте (имеют->ебут)"
   ]
  },
  {
   "cell_type": "code",
   "execution_count": 9,
   "metadata": {},
   "outputs": [],
   "source": [
    "df_texts = pd.read_csv('data_with_clean.csv', sep='\\t', index_col=0)"
   ]
  },
  {
   "cell_type": "code",
   "execution_count": 141,
   "metadata": {},
   "outputs": [],
   "source": [
    "import re\n",
    "\n",
    "def split_text(text):\n",
    "    return re.split(r'\\.|,|-| |\\n|;|\\?|!|\\)|\\(|«|\\\"|/', text)"
   ]
  },
  {
   "cell_type": "code",
   "execution_count": 11,
   "metadata": {},
   "outputs": [],
   "source": [
    "words = split_text(\" \".join(df_texts['message'].to_list()))"
   ]
  },
  {
   "cell_type": "markdown",
   "metadata": {},
   "source": [
    "### Повторения букв"
   ]
  },
  {
   "cell_type": "code",
   "execution_count": 12,
   "metadata": {},
   "outputs": [],
   "source": [
    "letters = 'аеиоуыэюяё'"
   ]
  },
  {
   "cell_type": "code",
   "execution_count": 13,
   "metadata": {},
   "outputs": [],
   "source": [
    "double_char_words = []"
   ]
  },
  {
   "cell_type": "code",
   "execution_count": 14,
   "metadata": {},
   "outputs": [],
   "source": [
    "for letter in letters:\n",
    "    double_char_words.extend(list(filter(lambda x: letter * 3 in x, words)))"
   ]
  },
  {
   "cell_type": "code",
   "execution_count": 15,
   "metadata": {},
   "outputs": [],
   "source": [
    "def replace_long_letters(text):\n",
    "    for letter in letters:\n",
    "        for i in reversed(range(3, 7)):   \n",
    "            text = text.replace(letter * i, letter)\n",
    "    \n",
    "    return text"
   ]
  },
  {
   "cell_type": "code",
   "execution_count": 16,
   "metadata": {},
   "outputs": [],
   "source": [
    "repeat_chars_dict = dict([(ch, replace_long_letters(ch)) for ch in double_char_words])"
   ]
  },
  {
   "cell_type": "markdown",
   "metadata": {},
   "source": [
    "### Смешнявки"
   ]
  },
  {
   "cell_type": "code",
   "execution_count": 17,
   "metadata": {},
   "outputs": [],
   "source": [
    "funny_comment = list(filter(lambda word: ('хах' in word and 'аха' in word), words))"
   ]
  },
  {
   "cell_type": "code",
   "execution_count": 18,
   "metadata": {},
   "outputs": [],
   "source": [
    "funny_dict = dict.fromkeys(funny_comment, 'ахах')"
   ]
  },
  {
   "cell_type": "markdown",
   "metadata": {},
   "source": [
    "### Муты и сокращения"
   ]
  },
  {
   "cell_type": "code",
   "execution_count": 19,
   "metadata": {},
   "outputs": [],
   "source": [
    "with open('mutes_stars.txt', 'w') as f:\n",
    "    f.write(\"\\n\".join(list(filter(lambda word: '*' in word, words))))"
   ]
  },
  {
   "cell_type": "code",
   "execution_count": 20,
   "metadata": {},
   "outputs": [],
   "source": [
    "with open('mutes_dots.txt', 'w') as f:\n",
    "    f.write(\"\\n\".join(list(filter(lambda word: '..' in word and not word.endswith('...'), words))))"
   ]
  },
  {
   "cell_type": "markdown",
   "metadata": {},
   "source": [
    "Дал снеге расшифровать"
   ]
  },
  {
   "cell_type": "markdown",
   "metadata": {},
   "source": [
    "Звездочки"
   ]
  },
  {
   "cell_type": "code",
   "execution_count": 21,
   "metadata": {},
   "outputs": [],
   "source": [
    "stars = open('mutes_stars_filled.txt', encoding='cp1251').read().splitlines()"
   ]
  },
  {
   "cell_type": "code",
   "execution_count": 22,
   "metadata": {},
   "outputs": [],
   "source": [
    "stars_dict = {a.split(';')[0]: a.split(';')[1].strip() for a in stars}"
   ]
  },
  {
   "cell_type": "markdown",
   "metadata": {},
   "source": [
    "Точки"
   ]
  },
  {
   "cell_type": "code",
   "execution_count": 23,
   "metadata": {},
   "outputs": [],
   "source": [
    "dots = open('mutes_dots_filled.txt', encoding='cp1251').read().splitlines()"
   ]
  },
  {
   "cell_type": "code",
   "execution_count": 24,
   "metadata": {},
   "outputs": [],
   "source": [
    "dots_dict = {a.split(';')[0]: a.split(';')[1].strip() for a in dots}"
   ]
  },
  {
   "cell_type": "markdown",
   "metadata": {},
   "source": [
    "Сокращения"
   ]
  },
  {
   "cell_type": "code",
   "execution_count": 25,
   "metadata": {},
   "outputs": [],
   "source": [
    "sokr = open('abbreviatury.txt').read().splitlines()"
   ]
  },
  {
   "cell_type": "code",
   "execution_count": 26,
   "metadata": {},
   "outputs": [],
   "source": [
    "sokr_dict = {a.split(';')[0]: a.split(';')[1].strip() for a in sokr}"
   ]
  },
  {
   "cell_type": "code",
   "execution_count": 27,
   "metadata": {},
   "outputs": [],
   "source": [
    "messages = df_texts['message'].to_list()"
   ]
  },
  {
   "cell_type": "code",
   "execution_count": 28,
   "metadata": {},
   "outputs": [],
   "source": [
    "for i in range(len(messages)):\n",
    "    message = messages[i]\n",
    "    message = \" \".join([dots_dict.get(word, word) for word in message.lower().split()])\n",
    "    message = \" \".join([sokr_dict.get(word, word) for word in message.lower().split()])\n",
    "    \n",
    "    messages[i] = message"
   ]
  },
  {
   "cell_type": "markdown",
   "metadata": {},
   "source": [
    "## Обработка текста"
   ]
  },
  {
   "cell_type": "code",
   "execution_count": 29,
   "metadata": {},
   "outputs": [],
   "source": [
    "import string"
   ]
  },
  {
   "cell_type": "code",
   "execution_count": 30,
   "metadata": {},
   "outputs": [],
   "source": [
    "from nltk.corpus import stopwords\n",
    "import pymorphy2\n",
    "import hunspell\n",
    "import re"
   ]
  },
  {
   "cell_type": "code",
   "execution_count": 31,
   "metadata": {},
   "outputs": [],
   "source": [
    "stop_words = sorted(set(stopwords.words('russian') + open('stop_words.txt').read().splitlines()))\n",
    "morph = pymorphy2.MorphAnalyzer()\n",
    "h_ru = hunspell.Hunspell('ru_RU')"
   ]
  },
  {
   "cell_type": "code",
   "execution_count": 32,
   "metadata": {},
   "outputs": [],
   "source": [
    "import symspellpy"
   ]
  },
  {
   "cell_type": "code",
   "execution_count": 33,
   "metadata": {},
   "outputs": [],
   "source": [
    "import opencorpora\n",
    "\n",
    "corpus = opencorpora.CorpusReader('annot.opcorpora.xml')\n",
    "catalog = corpus.catalog()"
   ]
  },
  {
   "cell_type": "code",
   "execution_count": 34,
   "metadata": {},
   "outputs": [
    {
     "name": "stderr",
     "output_type": "stream",
     "text": [
      "100%|██████████| 4007/4007 [01:12<00:00, 55.13it/s] \n"
     ]
    },
    {
     "data": {
      "text/plain": [
       "True"
      ]
     },
     "execution_count": 34,
     "metadata": {},
     "output_type": "execute_result"
    }
   ],
   "source": [
    "def recursive_flatten_generator(array):\n",
    "    lst = []\n",
    "    for i in array:\n",
    "        if isinstance(i, list):\n",
    "            lst.extend(recursive_flatten_generator(i))\n",
    "        else:\n",
    "            lst.append(i)\n",
    "    return lst\n",
    "\n",
    "def read_list(filepath, codec):\n",
    "    with codecs.open(filepath, 'r',codec) as file:\n",
    "        data = file.readlines()\n",
    "        data = [line.rstrip() for line in data]\n",
    "    return data\n",
    "\n",
    "\n",
    "from  more_itertools import unique_everseen\n",
    "\n",
    "corp_index = [item[0] for item in catalog]\n",
    "\n",
    "texts = []\n",
    "for ind in tq(corp_index):\n",
    "    corp = corpus.words(ind)\n",
    "    texts.append(corp)\n",
    "\n",
    "texts = list(unique_everseen(texts))\n",
    "\n",
    "texts = recursive_flatten_generator(texts)\n",
    "\n",
    "sym_spell = symspellpy.SymSpell(max_dictionary_edit_distance=2, prefix_length=7)\n",
    "sym_spell.create_dictionary(texts, encoding='utf-8')"
   ]
  },
  {
   "cell_type": "code",
   "execution_count": 35,
   "metadata": {},
   "outputs": [
    {
     "name": "stderr",
     "output_type": "stream",
     "text": [
      "100%|██████████| 34480/34480 [00:00<00:00, 101722.01it/s]\n",
      "100%|██████████| 34480/34480 [00:00<00:00, 198912.05it/s]\n",
      "100%|██████████| 34480/34480 [00:00<00:00, 109222.46it/s]\n",
      "100%|██████████| 34480/34480 [00:00<00:00, 195562.71it/s]\n"
     ]
    }
   ],
   "source": [
    "#'Diva004' -> 'Diva 004'- divides letters and digits\n",
    "R = r'(?i)(?:(?<=\\d)(?=[а-яa-zё])|(?<=[а-яa-zё])(?=\\d))'\n",
    "sep_tags = [re.sub(R, ' ', item) for item in tq(messages)]\n",
    "\n",
    "#'какZUMBA' -> 'как ZUMBA' - divides cases\n",
    "R_1 = r'(?:(?<=[a-zа-яё])(?=[А-ЯA-ZЁ]))'\n",
    "sep_tags = [re.sub(R_1, ' ', item) for item in tq(sep_tags)]\n",
    "\n",
    "#'душноvsдует' -> 'душно vs дует' - divides languages (en, ru)\n",
    "R_2 = r'(?i)(?:(?<=[a-z])(?=[а-яё])|(?<=[а-яё])(?=[a-z]))'\n",
    "sep_tags = [re.sub(R_2, ' ', item) for item in tq(sep_tags)]\n",
    "\n",
    "#'ДушноДует' -> 'Душно Дует' - divides camel case\n",
    "R_3 = r'(?:(?<=[a-zа-яё])(?=[A-ZА-ЯЁ]))'\n",
    "splitted_message = [re.sub(R_3, ' ', item) for item in tq(sep_tags)]"
   ]
  },
  {
   "cell_type": "code",
   "execution_count": 234,
   "metadata": {},
   "outputs": [],
   "source": [
    "def clean_text(comment):\n",
    "    \"\"\"\n",
    "    Заменить ё на е + \n",
    "    Заменить смешнявки +\n",
    "    Исправить грамматику +\n",
    "    Многоточия, вопросительные знаки, восклицательные +\n",
    "    Сократить многогласия (фууу -> фу, ахахахахах -> аха) + \n",
    "    Разделить слова +\n",
    "    \"\"\"\n",
    "    \n",
    "    comment = comment.replace('ё', 'е')\n",
    "    comment = comment.lower()\n",
    "    \n",
    "    # удаление ссылок\n",
    "    comment = re.sub(r\"@[а-яА-ЯA-Za-z0-9]+\", ' ', comment)\n",
    "    comment = re.sub(r\"https?://[A-Za-z0-9./]+\", ' ', comment)\n",
    "    comment = re.sub(r\"http?://[A-Za-z0-9./]+\", ' ', comment)\n",
    "    \n",
    "    # заменить смешнявки\n",
    "    comment = \" \".join([funny_dict.get(word, word) for word in split_text(comment)])\n",
    "    \n",
    "    # Сократить многогласия\n",
    "    comment = \" \".join([repeat_chars_dict.get(word, word) for word in split_text(comment)])\n",
    "    \n",
    "    # заменить муты звездочки\n",
    "    comment = \" \".join([stars_dict.get(word, word) for word in split_text(comment)])\n",
    "    \n",
    "    # оставить только буквы\n",
    "    comment = re.sub(r\"[^а-яА-Яa-zA-Z]\", ' ', comment)\n",
    "    \n",
    "    # удалить пустоты\n",
    "    comment = re.sub(r\" +\", ' ', comment)\n",
    "    \n",
    "    # исправляем опечатки\n",
    "    new_comment = \"\"\n",
    "    \n",
    "    for word in split_text(comment):\n",
    "        if not word:\n",
    "            continue\n",
    "            \n",
    "        sym_checker = sym_spell.word_segmentation(word)\n",
    "        \n",
    "        if len(word) > 10 or sym_checker.log_prob_sum > -13:\n",
    "            new_comment += sym_checker.corrected_string\n",
    "        else:\n",
    "            new_comment += word\n",
    "            \n",
    "        new_comment += ' '\n",
    "    \n",
    "    comment = new_comment\n",
    "    \n",
    "    # в нормальную форму\n",
    "    normal_form = \" \".join([morph.parse(word)[0].normal_form for word in comment.split() if not word in stop_words])\n",
    "    \n",
    "    return normal_form"
   ]
  },
  {
   "cell_type": "code",
   "execution_count": 235,
   "metadata": {},
   "outputs": [],
   "source": [
    "comment = \" \".join(df_texts['message'].to_list())"
   ]
  },
  {
   "cell_type": "code",
   "execution_count": null,
   "metadata": {},
   "outputs": [],
   "source": [
    "%%time\n",
    "comment = clean_text(comment)"
   ]
  },
  {
   "cell_type": "code",
   "execution_count": null,
   "metadata": {},
   "outputs": [],
   "source": [
    "words = split_text(comment)\n",
    "\n",
    "words.sort(key=lambda x: len(x))"
   ]
  },
  {
   "cell_type": "code",
   "execution_count": null,
   "metadata": {},
   "outputs": [],
   "source": [
    "unique_words = sorted(set(words))"
   ]
  },
  {
   "cell_type": "code",
   "execution_count": 207,
   "metadata": {},
   "outputs": [],
   "source": [
    "from google_trans_new import google_translator"
   ]
  },
  {
   "cell_type": "code",
   "execution_count": 208,
   "metadata": {},
   "outputs": [],
   "source": [
    "translator = google_translator()"
   ]
  },
  {
   "cell_type": "code",
   "execution_count": 209,
   "metadata": {},
   "outputs": [],
   "source": [
    "def process(lst):\n",
    "    start_time = time.time()\n",
    "    translations =[]\n",
    "    print(\"initiation\")\n",
    "    for line in lst:\n",
    "        trans = translator.translate(line, lang_tgt='ru')\n",
    "        translations.append((line, trans))\n",
    "    time.sleep(1)\n",
    "    print('time:', time.time() - start_time)\n",
    "    return translations"
   ]
  },
  {
   "cell_type": "code",
   "execution_count": null,
   "metadata": {},
   "outputs": [],
   "source": [
    "result = process(['quit', 'exit'])"
   ]
  },
  {
   "cell_type": "code",
   "execution_count": null,
   "metadata": {},
   "outputs": [],
   "source": [
    "result"
   ]
  },
  {
   "cell_type": "code",
   "execution_count": 173,
   "metadata": {},
   "outputs": [
    {
     "name": "stdout",
     "output_type": "stream",
     "text": [
      "CPU times: user 58.7 s, sys: 391 ms, total: 59.1 s\n",
      "Wall time: 59.4 s\n"
     ]
    }
   ],
   "source": [
    "%%time\n",
    "df_texts['clean_message'] = list(map(clean_text, splitted_message))"
   ]
  },
  {
   "cell_type": "code",
   "execution_count": 174,
   "metadata": {},
   "outputs": [
    {
     "data": {
      "text/html": [
       "<div>\n",
       "<style scoped>\n",
       "    .dataframe tbody tr th:only-of-type {\n",
       "        vertical-align: middle;\n",
       "    }\n",
       "\n",
       "    .dataframe tbody tr th {\n",
       "        vertical-align: top;\n",
       "    }\n",
       "\n",
       "    .dataframe thead th {\n",
       "        text-align: right;\n",
       "    }\n",
       "</style>\n",
       "<table border=\"1\" class=\"dataframe\">\n",
       "  <thead>\n",
       "    <tr style=\"text-align: right;\">\n",
       "      <th></th>\n",
       "      <th>message</th>\n",
       "      <th>label</th>\n",
       "      <th>split</th>\n",
       "      <th>clean_message</th>\n",
       "      <th>question_count</th>\n",
       "      <th>voskl_count</th>\n",
       "      <th>mnogodots_count</th>\n",
       "      <th>toxic_brakets_count</th>\n",
       "      <th>digit_count</th>\n",
       "      <th>has_bad_word</th>\n",
       "    </tr>\n",
       "  </thead>\n",
       "  <tbody>\n",
       "    <tr>\n",
       "      <th>0</th>\n",
       "      <td>Пиздабол ещё тот</td>\n",
       "      <td>True</td>\n",
       "      <td>train</td>\n",
       "      <td>пиздабол</td>\n",
       "      <td>0</td>\n",
       "      <td>0</td>\n",
       "      <td>0</td>\n",
       "      <td>0</td>\n",
       "      <td>0</td>\n",
       "      <td>True</td>\n",
       "    </tr>\n",
       "    <tr>\n",
       "      <th>1</th>\n",
       "      <td>Заколебали кукарекать, скоро весь пульс будет ...</td>\n",
       "      <td>True</td>\n",
       "      <td>train</td>\n",
       "      <td>заколебать кукарекать скоро пульс вафлера забить</td>\n",
       "      <td>0</td>\n",
       "      <td>0</td>\n",
       "      <td>0</td>\n",
       "      <td>0</td>\n",
       "      <td>0</td>\n",
       "      <td>True</td>\n",
       "    </tr>\n",
       "    <tr>\n",
       "      <th>2</th>\n",
       "      <td>На деле собака сутулая</td>\n",
       "      <td>True</td>\n",
       "      <td>train</td>\n",
       "      <td>дело собака сутулый</td>\n",
       "      <td>0</td>\n",
       "      <td>0</td>\n",
       "      <td>0</td>\n",
       "      <td>0</td>\n",
       "      <td>0</td>\n",
       "      <td>False</td>\n",
       "    </tr>\n",
       "    <tr>\n",
       "      <th>3</th>\n",
       "      <td>Пшнх от сюда тварь</td>\n",
       "      <td>True</td>\n",
       "      <td>train</td>\n",
       "      <td>пойти нахуй сюда тварь</td>\n",
       "      <td>0</td>\n",
       "      <td>0</td>\n",
       "      <td>0</td>\n",
       "      <td>0</td>\n",
       "      <td>0</td>\n",
       "      <td>True</td>\n",
       "    </tr>\n",
       "    <tr>\n",
       "      <th>4</th>\n",
       "      <td>плати за мое молчание клоп , сутки молчу 200 б...</td>\n",
       "      <td>True</td>\n",
       "      <td>train</td>\n",
       "      <td>платить мой молчание клоп сутки молчать бакс</td>\n",
       "      <td>0</td>\n",
       "      <td>0</td>\n",
       "      <td>0</td>\n",
       "      <td>0</td>\n",
       "      <td>3</td>\n",
       "      <td>False</td>\n",
       "    </tr>\n",
       "  </tbody>\n",
       "</table>\n",
       "</div>"
      ],
      "text/plain": [
       "                                             message  label  split  \\\n",
       "0                                   Пиздабол ещё тот   True  train   \n",
       "1  Заколебали кукарекать, скоро весь пульс будет ...   True  train   \n",
       "2                             На деле собака сутулая   True  train   \n",
       "3                                 Пшнх от сюда тварь   True  train   \n",
       "4  плати за мое молчание клоп , сутки молчу 200 б...   True  train   \n",
       "\n",
       "                                      clean_message  question_count  \\\n",
       "0                                          пиздабол               0   \n",
       "1  заколебать кукарекать скоро пульс вафлера забить               0   \n",
       "2                               дело собака сутулый               0   \n",
       "3                            пойти нахуй сюда тварь               0   \n",
       "4      платить мой молчание клоп сутки молчать бакс               0   \n",
       "\n",
       "   voskl_count  mnogodots_count  toxic_brakets_count  digit_count  \\\n",
       "0            0                0                    0            0   \n",
       "1            0                0                    0            0   \n",
       "2            0                0                    0            0   \n",
       "3            0                0                    0            0   \n",
       "4            0                0                    0            3   \n",
       "\n",
       "   has_bad_word  \n",
       "0          True  \n",
       "1          True  \n",
       "2         False  \n",
       "3          True  \n",
       "4         False  "
      ]
     },
     "execution_count": 174,
     "metadata": {},
     "output_type": "execute_result"
    }
   ],
   "source": [
    "df_texts.head()"
   ]
  },
  {
   "cell_type": "code",
   "execution_count": 175,
   "metadata": {},
   "outputs": [],
   "source": [
    "bad_words_dict = ['бля', 'сук', 'нах', 'заеб', 'хуй', 'пидор', 'твар', 'пизд', 'шлюх', 'трах', 'мудак', 'ебат']"
   ]
  },
  {
   "cell_type": "code",
   "execution_count": 176,
   "metadata": {},
   "outputs": [],
   "source": [
    "df_texts['question_count'] = df_texts['message'].apply(lambda x: x.count('?'))\n",
    "df_texts['voskl_count'] = df_texts['message'].apply(lambda x: x.count('!'))\n",
    "df_texts['mnogodots_count'] = df_texts['message'].apply(lambda x: x.count('...'))\n",
    "df_texts['toxic_brakets_count'] = df_texts['message'].apply(lambda x: x.count(')'))\n",
    "df_texts['digit_count'] = df_texts['message'].apply(lambda x: sum([a.isdigit() for a in x]))\n",
    "df_texts['has_bad_word'] = df_texts['clean_message'].apply(lambda x: any([word in x for word in bad_words_dict]))"
   ]
  },
  {
   "cell_type": "code",
   "execution_count": 177,
   "metadata": {},
   "outputs": [],
   "source": [
    "real_columns = ['question_count', 'voskl_count', 'mnogodots_count', 'toxic_brakets_count', 'digit_count', 'has_bad_word']"
   ]
  },
  {
   "cell_type": "code",
   "execution_count": 178,
   "metadata": {},
   "outputs": [],
   "source": [
    "df_texts.to_csv('data_with_clean.csv', sep='\\t')"
   ]
  },
  {
   "cell_type": "code",
   "execution_count": 179,
   "metadata": {},
   "outputs": [],
   "source": [
    "df_texts.dropna(inplace=True)"
   ]
  },
  {
   "cell_type": "code",
   "execution_count": 180,
   "metadata": {},
   "outputs": [],
   "source": [
    "np.random.seed(42)\n",
    "df_stripped = df_texts.query('label').append(df_texts.query('not label').sample(1130))"
   ]
  },
  {
   "cell_type": "code",
   "execution_count": 181,
   "metadata": {},
   "outputs": [],
   "source": [
    "from sklearn.feature_extraction.text import TfidfVectorizer"
   ]
  },
  {
   "cell_type": "code",
   "execution_count": 182,
   "metadata": {},
   "outputs": [],
   "source": [
    "vectorizer = TfidfVectorizer(max_features=3000)\n",
    "vectors = vectorizer.fit_transform(df_stripped['clean_message']).toarray()"
   ]
  },
  {
   "cell_type": "code",
   "execution_count": 183,
   "metadata": {},
   "outputs": [],
   "source": [
    "from sklearn.preprocessing import StandardScaler"
   ]
  },
  {
   "cell_type": "code",
   "execution_count": 184,
   "metadata": {},
   "outputs": [],
   "source": [
    "features = np.hstack((vectors, StandardScaler().fit_transform(df_stripped[real_columns])))"
   ]
  },
  {
   "cell_type": "code",
   "execution_count": 185,
   "metadata": {},
   "outputs": [],
   "source": [
    "from sklearn.linear_model import LogisticRegression\n",
    "from sklearn.ensemble import RandomForestClassifier\n",
    "from sklearn.model_selection import train_test_split\n",
    "from sklearn.metrics import f1_score, accuracy_score"
   ]
  },
  {
   "cell_type": "code",
   "execution_count": 186,
   "metadata": {},
   "outputs": [],
   "source": [
    "X_train, X_test, y_train, y_test = train_test_split(features, df_stripped['label'], test_size=0.3, random_state=42)"
   ]
  },
  {
   "cell_type": "code",
   "execution_count": 187,
   "metadata": {},
   "outputs": [],
   "source": [
    "from catboost import CatBoostClassifier\n",
    "from xgboost import XGBClassifier"
   ]
  },
  {
   "cell_type": "code",
   "execution_count": 188,
   "metadata": {},
   "outputs": [
    {
     "data": {
      "text/plain": [
       "RandomForestClassifier(random_state=42)"
      ]
     },
     "execution_count": 188,
     "metadata": {},
     "output_type": "execute_result"
    }
   ],
   "source": [
    "model = RandomForestClassifier(random_state=42)\n",
    "model.fit(X_train, y_train)"
   ]
  },
  {
   "cell_type": "code",
   "execution_count": 189,
   "metadata": {},
   "outputs": [
    {
     "data": {
      "text/plain": [
       "0.8563049853372434"
      ]
     },
     "execution_count": 189,
     "metadata": {},
     "output_type": "execute_result"
    }
   ],
   "source": [
    "model.score(X_test, y_test)"
   ]
  },
  {
   "cell_type": "code",
   "execution_count": 190,
   "metadata": {},
   "outputs": [
    {
     "data": {
      "text/plain": [
       "0.8619718309859155"
      ]
     },
     "execution_count": 190,
     "metadata": {},
     "output_type": "execute_result"
    }
   ],
   "source": [
    "f1_score(model.predict(X_test), y_test)"
   ]
  },
  {
   "cell_type": "code",
   "execution_count": null,
   "metadata": {},
   "outputs": [],
   "source": [
    "max_features_list = range(5000, 6000, 100)\n",
    "scores = []\n",
    "\n",
    "for max_features in tq(max_features_list):\n",
    "    vectorizer = TfidfVectorizer(max_features=max_features)\n",
    "    vectors = vectorizer.fit_transform(df_stripped['clean_message']).toarray()\n",
    "    \n",
    "    X_train, X_test, y_train, y_test = train_test_split(vectors, df_stripped['label'], test_size=0.3, random_state=42)\n",
    "    model = RandomForestClassifier(random_state=42)\n",
    "    model.fit(X_train, y_train)\n",
    "    \n",
    "    scores.append(f1_score(model.predict(X_test), y_test))"
   ]
  },
  {
   "cell_type": "code",
   "execution_count": 210,
   "metadata": {},
   "outputs": [
    {
     "data": {
      "text/plain": [
       "[<matplotlib.lines.Line2D at 0x7fd161e12fd0>]"
      ]
     },
     "execution_count": 210,
     "metadata": {},
     "output_type": "execute_result"
    },
    {
     "data": {
      "image/png": "[encoded data removed]",
      "text/plain": [
       "<Figure size 432x288 with 1 Axes>"
      ]
     },
     "metadata": {
      "needs_background": "light"
     },
     "output_type": "display_data"
    }
   ],
   "source": [
    "plt.plot(max_features_list, scores)"
   ]
  },
  {
   "cell_type": "code",
   "execution_count": 213,
   "metadata": {},
   "outputs": [
    {
     "name": "stdout",
     "output_type": "stream",
     "text": [
      "максимальное кол-во слов: 5500\n"
     ]
    }
   ],
   "source": [
    "MAX_FEATURES = max_features_list[scores.index(max(scores))]\n",
    "print('максимальное кол-во слов:', MAX_FEATURES)"
   ]
  },
  {
   "cell_type": "code",
   "execution_count": 221,
   "metadata": {},
   "outputs": [],
   "source": [
    "vectorizer = TfidfVectorizer(max_features=MAX_FEATURES)\n",
    "vectors = vectorizer.fit_transform(df_stripped['clean_message']).toarray()"
   ]
  },
  {
   "cell_type": "code",
   "execution_count": 222,
   "metadata": {},
   "outputs": [],
   "source": [
    "features = np.hstack((vectors, StandardScaler().fit_transform(df_stripped[real_columns])))"
   ]
  },
  {
   "cell_type": "code",
   "execution_count": 223,
   "metadata": {},
   "outputs": [],
   "source": [
    "X_train, X_test, y_train, y_test = train_test_split(features, df_stripped['label'], test_size=0.3, random_state=42)"
   ]
  },
  {
   "cell_type": "code",
   "execution_count": 224,
   "metadata": {},
   "outputs": [
    {
     "data": {
      "text/plain": [
       "RandomForestClassifier(random_state=42)"
      ]
     },
     "execution_count": 224,
     "metadata": {},
     "output_type": "execute_result"
    }
   ],
   "source": [
    "model = RandomForestClassifier(random_state=42)\n",
    "model.fit(X_train, y_train)"
   ]
  },
  {
   "cell_type": "code",
   "execution_count": 225,
   "metadata": {},
   "outputs": [],
   "source": [
    "def get_feature_name(i):\n",
    "    return (vectorizer.get_feature_names() + real_columns)[i]"
   ]
  },
  {
   "cell_type": "code",
   "execution_count": 226,
   "metadata": {},
   "outputs": [
    {
     "data": {
      "text/plain": [
       "0.8577712609970675"
      ]
     },
     "execution_count": 226,
     "metadata": {},
     "output_type": "execute_result"
    }
   ],
   "source": [
    "model.score(X_test, y_test)"
   ]
  },
  {
   "cell_type": "code",
   "execution_count": 227,
   "metadata": {},
   "outputs": [
    {
     "data": {
      "text/plain": [
       "0.8628005657708628"
      ]
     },
     "execution_count": 227,
     "metadata": {},
     "output_type": "execute_result"
    }
   ],
   "source": [
    "f1_score(model.predict(X_test), y_test)"
   ]
  },
  {
   "cell_type": "markdown",
   "metadata": {},
   "source": [
    "- max - 0.867231638418079\n",
    "- new_max - 0.8716502115655854 (without deleting words with one length)"
   ]
  },
  {
   "cell_type": "code",
   "execution_count": 68,
   "metadata": {},
   "outputs": [
    {
     "name": "stdout",
     "output_type": "stream",
     "text": [
      "Feature ranking:\n",
      "1. feature digit_count (0.109178)\n",
      "2. feature has_bad_word (0.040110)\n",
      "3. feature toxic_brakets_count (0.029450)\n",
      "4. feature купить (0.017553)\n",
      "5. feature акция (0.014871)\n",
      "6. feature цена (0.014698)\n",
      "7. feature компания (0.012226)\n",
      "8. feature бумага (0.011224)\n",
      "9. feature тупой (0.010013)\n",
      "10. feature работать (0.009131)\n",
      "11. feature дебил (0.006793)\n",
      "12. feature отчёт (0.006471)\n",
      "13. feature продать (0.006105)\n",
      "14. feature хороший (0.006017)\n",
      "15. feature минус (0.005921)\n",
      "16. feature думать (0.005649)\n",
      "17. feature брать (0.005176)\n",
      "18. feature средний (0.005053)\n",
      "19. feature рост (0.005049)\n",
      "20. feature question_count (0.004893)\n",
      "21. feature ждать (0.004715)\n",
      "22. feature деньга (0.004711)\n",
      "23. feature точно (0.004612)\n",
      "24. feature взять (0.004354)\n",
      "25. feature стоить (0.004269)\n",
      "26. feature упасть (0.004245)\n",
      "27. feature падать (0.003955)\n",
      "28. feature продавать (0.003865)\n",
      "29. feature говно (0.003774)\n",
      "30. feature общий (0.003742)\n",
      "31. feature рынок (0.003739)\n",
      "32. feature расти (0.003351)\n",
      "33. feature дурачок (0.003288)\n",
      "34. feature рубль (0.003264)\n",
      "35. feature сказать (0.003252)\n",
      "36. feature заявка (0.003179)\n",
      "37. feature сильно (0.002982)\n",
      "38. feature покупать (0.002940)\n",
      "39. feature хомяк (0.002935)\n",
      "40. feature графика (0.002840)\n",
      "41. feature вообще (0.002829)\n",
      "42. feature фонд (0.002769)\n",
      "43. feature ситуация (0.002726)\n",
      "44. feature покупка (0.002658)\n",
      "45. feature новость (0.002654)\n",
      "46. feature месяц (0.002647)\n",
      "47. feature делать (0.002638)\n",
      "48. feature идиот (0.002634)\n",
      "49. feature задолбать (0.002627)\n",
      "50. feature voskl_count (0.002576)\n",
      "51. feature свой (0.002566)\n",
      "52. feature вроде (0.002526)\n",
      "53. feature лох (0.002490)\n",
      "54. feature налог (0.002435)\n",
      "55. feature вчера (0.002427)\n",
      "56. feature смотреть (0.002386)\n",
      "57. feature жбан (0.002297)\n",
      "58. feature большой (0.002296)\n",
      "59. feature выбираться (0.002295)\n",
      "60. feature комиссия (0.002282)\n",
      "61. feature итог (0.002267)\n",
      "62. feature день (0.002218)\n",
      "63. feature доллар (0.002216)\n",
      "64. feature прибыль (0.002176)\n",
      "65. feature анализ (0.002172)\n",
      "66. feature докупить (0.002102)\n",
      "67. feature хотеть (0.002027)\n",
      "68. feature закупаться (0.002020)\n",
      "69. feature продажа (0.002015)\n",
      "70. feature убыток (0.002014)\n",
      "71. feature пиздец (0.001990)\n",
      "72. feature mnogodots_count (0.001987)\n",
      "73. feature интересно (0.001970)\n",
      "74. feature начать (0.001960)\n",
      "75. feature самый (0.001949)\n",
      "76. feature выше (0.001940)\n",
      "77. feature инф (0.001934)\n",
      "78. feature сразу (0.001911)\n",
      "79. feature больший (0.001895)\n",
      "80. feature висеть (0.001892)\n",
      "81. feature бан (0.001881)\n",
      "82. feature счёт (0.001817)\n",
      "83. feature исправить (0.001813)\n",
      "84. feature какой (0.001789)\n",
      "85. feature тонкий (0.001745)\n",
      "86. feature штука (0.001729)\n",
      "87. feature говорить (0.001723)\n",
      "88. feature сделать (0.001719)\n",
      "89. feature тесло (0.001709)\n",
      "90. feature разница (0.001680)\n",
      "91. feature идея (0.001659)\n",
      "92. feature тупорылый (0.001645)\n",
      "93. feature пойти (0.001617)\n",
      "94. feature странно (0.001614)\n",
      "95. feature посмотреть (0.001592)\n",
      "96. feature раз (0.001558)\n",
      "97. feature блядь (0.001553)\n",
      "98. feature объём (0.001540)\n",
      "99. feature знать (0.001539)\n",
      "100. feature пендос (0.001496)\n",
      "101. feature понять (0.001493)\n",
      "102. feature уйти (0.001493)\n",
      "103. feature пох (0.001475)\n",
      "104. feature процент (0.001473)\n",
      "105. feature баба (0.001455)\n",
      "106. feature наоборот (0.001454)\n",
      "107. feature новый (0.001429)\n",
      "108. feature канал (0.001425)\n",
      "109. feature равно (0.001424)\n",
      "110. feature шорты (0.001418)\n",
      "111. feature дать (0.001415)\n",
      "112. feature сливать (0.001404)\n",
      "113. feature дурак (0.001336)\n",
      "114. feature момент (0.001331)\n",
      "115. feature стоимость (0.001330)\n",
      "116. feature дивиденд (0.001329)\n",
      "117. feature норма (0.001326)\n",
      "118. feature заходить (0.001323)\n",
      "119. feature возможно (0.001320)\n",
      "120. feature написать (0.001302)\n",
      "121. feature решить (0.001294)\n",
      "122. feature один (0.001294)\n",
      "123. feature плита (0.001284)\n",
      "124. feature скоро (0.001279)\n",
      "125. feature плюс (0.001266)\n",
      "126. feature слить (0.001255)\n",
      "127. feature быдло (0.001255)\n",
      "128. feature усреднять (0.001254)\n",
      "129. feature бакс (0.001252)\n",
      "130. feature получить (0.001238)\n",
      "131. feature такой (0.001236)\n",
      "132. feature риск (0.001234)\n",
      "133. feature заработать (0.001230)\n",
      "134. feature вырасти (0.001222)\n",
      "135. feature дешёвый (0.001203)\n",
      "136. feature вопрос (0.001177)\n",
      "137. feature лететь (0.001173)\n",
      "138. feature сумма (0.001170)\n",
      "139. feature нужный (0.001169)\n",
      "140. feature банк (0.001168)\n",
      "141. feature правда (0.001159)\n",
      "142. feature кобель (0.001150)\n",
      "143. feature фиксировать (0.001144)\n",
      "144. feature временно (0.001141)\n",
      "145. feature закрыть (0.001141)\n",
      "146. feature например (0.001138)\n",
      "147. feature жопа (0.001133)\n",
      "148. feature добрый (0.001131)\n",
      "149. feature тупица (0.001130)\n",
      "150. feature смысл (0.001124)\n"
     ]
    }
   ],
   "source": [
    "importances = model.feature_importances_\n",
    "std = np.std([tree.feature_importances_ for tree in model.estimators_],\n",
    "             axis=0)\n",
    "indices = np.argsort(importances)[::-1]\n",
    "\n",
    "# Print the feature ranking\n",
    "print(\"Feature ranking:\")\n",
    "\n",
    "for f in range(150):\n",
    "    print(\"%d. feature %s (%f)\" % (f + 1, get_feature_name(indices[f]), importances[indices[f]]))"
   ]
  }
 ],
 "metadata": {
  "kernelspec": {
   "display_name": "cs102",
   "language": "python",
   "name": "cs102"
  },
  "language_info": {
   "codemirror_mode": {
    "name": "ipython",
    "version": 3
   },
   "file_extension": ".py",
   "mimetype": "text/x-python",
   "name": "python",
   "nbconvert_exporter": "python",
   "pygments_lexer": "ipython3",
   "version": "3.8.3"
  }
 },
 "nbformat": 4,
 "nbformat_minor": 4
}
